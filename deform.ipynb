{
 "cells": [
  {
   "cell_type": "markdown",
   "metadata": {},
   "source": [
    "Введём функцию поиска минимума методом деформированного многогранника"
   ]
  },
  {
   "cell_type": "code",
   "execution_count": 1,
   "metadata": {},
   "outputs": [],
   "source": [
    "import numpy as np\n",
    "\n",
    "def deform(f, x, maxiter):\n",
    "    n = len(x)\n",
    "    sim = np.ndarray(shape=(n + 1, n), dtype=float)\n",
    "    sim[n] = [i for i in x]\n",
    "    for i in range(n):     #создаём симплекс\n",
    "        sim[i][i] = 1\n",
    "    print(step(f, sim, n, 0, maxiter))\n",
    "    \n",
    "def step(f, sim, n, iter, maxiter): \n",
    "    iter += 1\n",
    "    alf = 1\n",
    "    bet = 0.5\n",
    "    gam = 2\n",
    "    delt = 0.5\n",
    "    w = g = b = sj = sjj = 0\n",
    "    fb = 1e+307\n",
    "    fw = fg = -1e+307\n",
    "    for i in range(n + 1):     #находим три рабочие точки\n",
    "        if fg < f(sim[i]):\n",
    "            if fw < f(sim[i]):\n",
    "                g = w\n",
    "                fg = fw\n",
    "                w = i\n",
    "                fw = f(sim[i])\n",
    "            else:\n",
    "                g = i\n",
    "                fg = f(sim[i])\n",
    "        if fb > f(sim[i]):\n",
    "            fb = f(sim[i])\n",
    "            b = i\n",
    "    c = np.array([0] * n)\n",
    "    c = c * 1.0\n",
    "    for i in range(n):     #находим центр тяжести\n",
    "        l = [sim[k][i] for k in range(n + 1)]\n",
    "        l[w] = 0\n",
    "        c[i] = sum(l)\n",
    "        c[i] /= n\n",
    "    xr = np.array([0] * n)     #отражение\n",
    "    xr = c + alf * (c - sim[w])\n",
    "    fr = f(xr)\n",
    "    if fr < fb:     #растяжение\n",
    "        xe = np.array([0] * n)\n",
    "        xe = c + gam * (xr - c)\n",
    "        if f(xe) < fr:\n",
    "            sim[w] = xe\n",
    "        else:\n",
    "            sim[w] = xr\n",
    "    else:        \n",
    "        if fr < fg:\n",
    "            sim[w] = xr\n",
    "        if fg < fr and fr <= fw:\n",
    "            sim[w] = xr\n",
    "            fw = fr\n",
    "            sj = 1\n",
    "        if fw < fr:\n",
    "            sj = 1\n",
    "        \n",
    "        if sj == 1:    #сжатие\n",
    "            xs = c + bet * (sim[w] - c)\n",
    "            if f(xs) > fw:\n",
    "                sjj = 1\n",
    "        \n",
    "        if sjj == 1:        #гомотетия\n",
    "            for i in range(n + 1):\n",
    "                sim[i] = sim[b] + delt * (sim[i] - sim[b])\n",
    "\n",
    "    if iter < maxiter:\n",
    "        return step(f, sim, n, iter, maxiter)\n",
    "    else:\n",
    "        return sim[b], fb"
   ]
  },
  {
   "cell_type": "markdown",
   "metadata": {},
   "source": [
    "Проверим её на функции, экстремумом которой является точка 1, 4. Значение в этой точке - 21. Движение начнём из точки (0,1) координат, сделаем 5 итерации"
   ]
  },
  {
   "cell_type": "code",
   "execution_count": 5,
   "metadata": {},
   "outputs": [
    {
     "name": "stdout",
     "output_type": "stream",
     "text": [
      "(array([ 1.,  5.]), -20.0)\n"
     ]
    }
   ],
   "source": [
    "def f(k):\n",
    "    return k[0] ** 2 + k[1] * k[0] + k[1] ** 2 - 6 * k[0] - 9 * k[1]\n",
    "\n",
    "k = [0,1]\n",
    "deform(f,k,5)"
   ]
  },
  {
   "cell_type": "markdown",
   "metadata": {},
   "source": [
    "Повысим точность. Сделаем 10 иттераций. Начать при этом можно из точки (1,1)"
   ]
  },
  {
   "cell_type": "code",
   "execution_count": 4,
   "metadata": {},
   "outputs": [
    {
     "name": "stdout",
     "output_type": "stream",
     "text": [
      "(array([ 1.,  4.]), -21.0)\n"
     ]
    }
   ],
   "source": [
    "k = [1,0]\n",
    "deform(f,k,10)"
   ]
  },
  {
   "cell_type": "markdown",
   "metadata": {},
   "source": [
    "Видно, что при увеличении числа итераций растёт точность нахождения минимума, причём при 10 точность выше эпсилон"
   ]
  }
 ],
 "metadata": {
  "kernelspec": {
   "display_name": "Python 3",
   "language": "python",
   "name": "python3"
  },
  "language_info": {
   "codemirror_mode": {
    "name": "ipython",
    "version": 3
   },
   "file_extension": ".py",
   "mimetype": "text/x-python",
   "name": "python",
   "nbconvert_exporter": "python",
   "pygments_lexer": "ipython3",
   "version": "3.6.3"
  }
 },
 "nbformat": 4,
 "nbformat_minor": 2
}
