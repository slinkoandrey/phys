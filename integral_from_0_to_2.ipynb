{
 "cells": [
  {
   "cell_type": "markdown",
   "metadata": {},
   "source": [
    "# Взятие определённого интеграла"
   ]
  },
  {
   "cell_type": "markdown",
   "metadata": {},
   "source": [
    "Импортируем необходимые библиотеки и функции"
   ]
  },
  {
   "cell_type": "code",
   "execution_count": 1,
   "metadata": {},
   "outputs": [],
   "source": [
    "from scipy.special import roots_legendre\n",
    "import numpy as np"
   ]
  },
  {
   "cell_type": "markdown",
   "metadata": {},
   "source": [
    "Введём функцию, которую будем интегрировать"
   ]
  },
  {
   "cell_type": "code",
   "execution_count": 2,
   "metadata": {},
   "outputs": [],
   "source": [
    "def f(x):\n",
    "    res = np.zeros(len(x))\n",
    "    for i in range(len(x)):\n",
    "        res[i] = (2 + np.cos(1 + (x[i])**0.5))/(1 + 0.5 * x[i])**0.5 * np.exp(0.5 * x[i])\n",
    "    return res"
   ]
  },
  {
   "cell_type": "markdown",
   "metadata": {},
   "source": [
    "Введём функцию интегрирования методом Гаусса-Лежандра по n узлам"
   ]
  },
  {
   "cell_type": "code",
   "execution_count": 3,
   "metadata": {},
   "outputs": [],
   "source": [
    "def integral(f, n):\n",
    "    roots, weights = roots_legendre(n)\n",
    "    roots += 1 #сдвиг пределов от [-1, 1] до [0, 2]\n",
    "    return np.sum(f(roots)*weights)"
   ]
  },
  {
   "cell_type": "markdown",
   "metadata": {},
   "source": [
    "Введём функцию, повышающую количество узлов, в зависмости от необходимой точности. Функция принимает три аргумента - саму функцию, необходимую точность и максимальное число узлов"
   ]
  },
  {
   "cell_type": "code",
   "execution_count": 4,
   "metadata": {},
   "outputs": [],
   "source": [
    "def podbor(f, acc = 1e-04, n_max = 100):\n",
    "    prev = 0\n",
    "    indic = True\n",
    "    n = 0\n",
    "    while(indic and (n < n_max)):\n",
    "        n += 1\n",
    "        new = integral(f, n)\n",
    "        if abs(prev - new)<acc:\n",
    "            indic = False\n",
    "        prev = new\n",
    "    acc = np.round(-np.log10(acc))\n",
    "    new = np.round(new, int(acc))\n",
    "    return new, n"
   ]
  },
  {
   "cell_type": "markdown",
   "metadata": {},
   "source": [
    "Проверим работоспосбность с различными точностями. Первое число - результат интегрирования, второе - количество узлов, потребовавшееся для этого"
   ]
  },
  {
   "cell_type": "code",
   "execution_count": 5,
   "metadata": {},
   "outputs": [
    {
     "name": "stdout",
     "output_type": "stream",
     "text": [
      "(4.4232, 10)\n",
      "(4.42336, 30)\n",
      "(4.42336825, 100)\n"
     ]
    }
   ],
   "source": [
    "print(podbor(f))\n",
    "print(podbor(f, 1e-06))\n",
    "print(podbor(f, 1e-09))"
   ]
  },
  {
   "cell_type": "markdown",
   "metadata": {},
   "source": [
    "Как видим, для точности до девятого знака было необходимо больше 100 узлов. Проверим, сколько именно"
   ]
  },
  {
   "cell_type": "code",
   "execution_count": 6,
   "metadata": {},
   "outputs": [
    {
     "name": "stdout",
     "output_type": "stream",
     "text": [
      "(4.423368438, 165)\n"
     ]
    }
   ],
   "source": [
    "print(podbor(f, 1e-09, np.inf))"
   ]
  }
 ],
 "metadata": {
  "kernelspec": {
   "display_name": "Python 3",
   "language": "python",
   "name": "python3"
  },
  "language_info": {
   "codemirror_mode": {
    "name": "ipython",
    "version": 3
   },
   "file_extension": ".py",
   "mimetype": "text/x-python",
   "name": "python",
   "nbconvert_exporter": "python",
   "pygments_lexer": "ipython3",
   "version": "3.6.5"
  }
 },
 "nbformat": 4,
 "nbformat_minor": 2
}
