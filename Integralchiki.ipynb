{
 "cells": [
  {
   "cell_type": "markdown",
   "metadata": {},
   "source": [
    "# Интегрируем по-всякому"
   ]
  },
  {
   "cell_type": "markdown",
   "metadata": {},
   "source": [
    "Импортируем numpy и scipy.integrate, который пригодится для проверок"
   ]
  },
  {
   "cell_type": "code",
   "execution_count": 1,
   "metadata": {
    "scrolled": true
   },
   "outputs": [],
   "source": [
    "import numpy as np\n",
    "from scipy import integrate "
   ]
  },
  {
   "cell_type": "markdown",
   "metadata": {},
   "source": [
    "Введём функцию интегрирования средними прямоугольниками"
   ]
  },
  {
   "cell_type": "code",
   "execution_count": 2,
   "metadata": {},
   "outputs": [],
   "source": [
    "def integr(f, a, b, n):\n",
    "    x = np.linspace(a, b, n)\n",
    "    y = f(x)\n",
    "    integ = 0\n",
    "    for i in range(n-1):\n",
    "        integ += (f((x[i] + x[i+1]) / 2) * (b - a) / (n-1))\n",
    "    return(integ)"
   ]
  },
  {
   "cell_type": "markdown",
   "metadata": {},
   "source": [
    "Введём первую функцию"
   ]
  },
  {
   "cell_type": "code",
   "execution_count": 3,
   "metadata": {},
   "outputs": [],
   "source": [
    "def f1(x):\n",
    "    return 1 / np.sin(np.sqrt(x))"
   ]
  },
  {
   "cell_type": "markdown",
   "metadata": {},
   "source": [
    "Проинтегрируем её средними прямоугольниками в количестве 10, 100, 1000, 10000 и 100000 штук в лоб и сравним с ответом от quad"
   ]
  },
  {
   "cell_type": "code",
   "execution_count": 4,
   "metadata": {},
   "outputs": [
    {
     "name": "stderr",
     "output_type": "stream",
     "text": [
      "C:\\Users\\Intel\\Anaconda3\\lib\\site-packages\\ipykernel_launcher.py:2: RuntimeWarning: divide by zero encountered in true_divide\n",
      "  \n"
     ]
    },
    {
     "name": "stdout",
     "output_type": "stream",
     "text": [
      "[-0.31525543 -0.09545598 -0.03006088 -0.00950216 -0.00300472]\n"
     ]
    }
   ],
   "source": [
    "lob1 = np.array([integr(f1, 0, np.pi**2/4, 10), integr(f1, 0, np.pi**2/4, 100), integr(f1, 0, np.pi**2/4, 1000), \n",
    "        integr(f1, 0, np.pi**2/4, 10000), integr(f1, 0, np.pi**2/4, 100000)])\n",
    "quad1 = integrate.quad(f1, 0, np.pi**2/4)[0]\n",
    "print(lob1 - quad1)"
   ]
  },
  {
   "cell_type": "markdown",
   "metadata": {},
   "source": [
    "Питон жалуется, что не хочет делить на ноль, но мне кажется, что он просто ленится\n",
    "\n",
    "Теперь добавим и вычтем особенность вида 1/sqrt(x). Аналитически посчитанный интеграл даёт нам ровно пи. Введём функцию с вычтенной особенностью и проинтегрируем её"
   ]
  },
  {
   "cell_type": "code",
   "execution_count": 5,
   "metadata": {},
   "outputs": [
    {
     "name": "stderr",
     "output_type": "stream",
     "text": [
      "C:\\Users\\Intel\\Anaconda3\\lib\\site-packages\\ipykernel_launcher.py:2: RuntimeWarning: divide by zero encountered in true_divide\n",
      "  \n",
      "C:\\Users\\Intel\\Anaconda3\\lib\\site-packages\\ipykernel_launcher.py:2: RuntimeWarning: invalid value encountered in subtract\n",
      "  \n"
     ]
    },
    {
     "name": "stdout",
     "output_type": "stream",
     "text": [
      "[1.06529241e-03 3.66216512e-05 1.21295420e-06 3.90106654e-08\n",
      " 1.24053967e-09]\n"
     ]
    }
   ],
   "source": [
    "def f1_(x):\n",
    "    return 1 / np.sin(np.sqrt(x)) - 1 / np.sqrt(x)\n",
    "\n",
    "hitro1 = np.array([integr(f1_, 0, np.pi**2/4, 10), integr(f1_, 0, np.pi**2/4, 100), integr(f1_, 0, np.pi**2/4, 1000), \n",
    "                   integr(f1_, 0, np.pi**2/4, 10000), integr(f1_, 0, np.pi**2/4, 100000)])\n",
    "hitro1 += np.pi\n",
    "print(hitro1 - quad1)"
   ]
  },
  {
   "cell_type": "markdown",
   "metadata": {},
   "source": [
    "Как видим, вне зависимости от числа прямокгольников расхождение стало меньше на несколько порядков. Это означает, что вычитание особенности сильно улучшает точность интегрирования\n",
    "\n",
    "Теперь введём вторую функцию и так же посмотрим отличия от значения, данного quad"
   ]
  },
  {
   "cell_type": "code",
   "execution_count": 6,
   "metadata": {},
   "outputs": [
    {
     "name": "stderr",
     "output_type": "stream",
     "text": [
      "C:\\Users\\Intel\\Anaconda3\\lib\\site-packages\\ipykernel_launcher.py:2: RuntimeWarning: divide by zero encountered in true_divide\n",
      "  \n"
     ]
    },
    {
     "name": "stdout",
     "output_type": "stream",
     "text": [
      "[-0.28751125 -0.08604203 -0.02706747 -0.00855505 -0.0027052 ]\n"
     ]
    }
   ],
   "source": [
    "def f2(x):\n",
    "    return (1 + x**2) / np.sqrt(1 - x**2)\n",
    "lob2 = np.array([integr(f2, 0, 1, 10), integr(f2, 0, 1, 100), integr(f2, 0, 1, 1000), \n",
    "        integr(f2, 0, 1, 10000), integr(f2, 0, 1, 100000)])\n",
    "quad2 = integrate.quad(f2, 0, 1)[0]\n",
    "print(lob2 - quad2)"
   ]
  },
  {
   "cell_type": "markdown",
   "metadata": {},
   "source": [
    "Разобьём функцию на две: 2/sqrt(1-x^2) - (1-x^2)/sqrt(1-x^2). Интгкрал от первой функции является табличным и равен арксинусу, что в наших подстановках даёт пи, а второй элементарно приводится к виду sqrt(1-x^2)"
   ]
  },
  {
   "cell_type": "code",
   "execution_count": 7,
   "metadata": {},
   "outputs": [
    {
     "name": "stdout",
     "output_type": "stream",
     "text": [
      "[-3.16540692e-03 -8.73575720e-05 -2.72691991e-06 -8.61215939e-08\n",
      " -2.72302803e-09]\n"
     ]
    }
   ],
   "source": [
    "def f2_(x):\n",
    "    return np.sqrt(1 - x**2)\n",
    "hitro2 = np.array([integr(f2_, 0, 1, 10), integr(f2_, 0, 1, 100), integr(f2_, 0, 1, 1000), \n",
    "        integr(f2_, 0, 1, 10000), integr(f2_, 0, 1, 100000)])\n",
    "hitro2 = np.pi - hitro2\n",
    "print(hitro2 - quad2)"
   ]
  },
  {
   "cell_type": "markdown",
   "metadata": {},
   "source": [
    "Опять видим улучшение на несколько порядков для любого числа прямугольников"
   ]
  }
 ],
 "metadata": {
  "kernelspec": {
   "display_name": "Python 3",
   "language": "python",
   "name": "python3"
  },
  "language_info": {
   "codemirror_mode": {
    "name": "ipython",
    "version": 3
   },
   "file_extension": ".py",
   "mimetype": "text/x-python",
   "name": "python",
   "nbconvert_exporter": "python",
   "pygments_lexer": "ipython3",
   "version": "3.6.5"
  }
 },
 "nbformat": 4,
 "nbformat_minor": 2
}
