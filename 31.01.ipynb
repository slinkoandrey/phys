{
 "cells": [
  {
   "cell_type": "code",
   "execution_count": 4,
   "metadata": {},
   "outputs": [
    {
     "name": "stdout",
     "output_type": "stream",
     "text": [
      "0.287\n"
     ]
    }
   ],
   "source": [
    "import numpy as np\n",
    "\n",
    "\n",
    "n = 10000\n",
    "a, b, c, p = 1, 1, 1, 1\n",
    "rndm = np.random.RandomState(5)\n",
    "q = rndm.uniform(-1, 1, [3, n])\n",
    "inside = 0.0\n",
    "for i in range(n):\n",
    "    if ((q[0][i] / a + q[1][i] / b + q[2][i] / c)**2 < q[0][i] / a + q[1][i] / b - q[2][i] / p):\n",
    "        inside += 1\n",
    "print(inside / n)"
   ]
  },
  {
   "cell_type": "code",
   "execution_count": 1,
   "metadata": {},
   "outputs": [],
   "source": [
    "import numpy as np\n",
    "rndm = np.random.RandomState(5)\n",
    "n = 10000\n",
    "true = rndm.standard_cauchy(n)\n",
    "r = rndm.uniform(0, 1, n)\n",
    "podgon = np.tan(np.pi * (r - 1 / 2))"
   ]
  },
  {
   "cell_type": "code",
   "execution_count": 2,
   "metadata": {},
   "outputs": [
    {
     "data": {
      "image/png": "[encoded data removed]",
      "text/plain": [
       "<matplotlib.figure.Figure at 0x7ab6cf8>"
      ]
     },
     "metadata": {},
     "output_type": "display_data"
    }
   ],
   "source": [
    "import matplotlib.pyplot as plt\n",
    "plt.hist(true, bins = 1000, range=[-10, 10], color = 'red', density = True, histtype = 'step')\n",
    "plt.hist(podgon, bins = 1000, range=[-10, 10], color = 'blue', density = True, alpha=0.4)\n",
    "plt.show()"
   ]
  },
  {
   "cell_type": "code",
   "execution_count": null,
   "metadata": {
    "collapsed": true
   },
   "outputs": [],
   "source": []
  }
 ],
 "metadata": {
  "kernelspec": {
   "display_name": "Python 3",
   "language": "python",
   "name": "python3"
  },
  "language_info": {
   "codemirror_mode": {
    "name": "ipython",
    "version": 3
   },
   "file_extension": ".py",
   "mimetype": "text/x-python",
   "name": "python",
   "nbconvert_exporter": "python",
   "pygments_lexer": "ipython3",
   "version": "3.6.3"
  }
 },
 "nbformat": 4,
 "nbformat_minor": 2
}
