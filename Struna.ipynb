{
 "cells": [
  {
   "cell_type": "markdown",
   "metadata": {},
   "source": [
    "# Поведение струны в заисимости от начальных условий\n",
    "\n",
    "Все мы знаем, что струна будет подчнияться волновому уравнению\n",
    "$$\\begin{align}\n",
    "    \\frac{\\partial^2 u}{\\partial t^2} &= c^2 \\frac{\\partial^2 u}{\\partial x^2}\n",
    " \\end{align}$$ \n",
    "\n",
    "Введём k как отношение шага сетки времени к шагу сетки пространства, умноженное на то самое с. Распишем производные разностным отношением\n",
    " \n",
    "$$\\begin{align} \n",
    "\\frac{u(t_{i-1},x_j)+u(t_{i+1},x_j)-2 u(t_{i},x_j)}{\\tau ^2} = \n",
    "{c^2} \\frac{u(t_{i},x_{j-1})+u(t_{i},x_{j+1})-2 u(t_{i},x_j)}{h^2} \\newline\n",
    "u(t_{i-1},x_j)+u(t_{i+1},x_j)-2 u(t_{i},x_j) = \n",
    "k^2 [u(t_{i},x_{j-1})+u(t_{i},x_{j+1})-2 u(t_{i},x_j)] \\newline\n",
    "u(t_{i+1},x_{j}) =k^2 u(t_{i},x_{j-1}) +k^2u(t_{i},x_{j+1})+ 2 (1-k^2) u(t_{i},x_{j}) - u(t_{i-1},x_{j}) \n",
    "\\end{align}$$"
   ]
  },
  {
   "cell_type": "code",
   "execution_count": 9,
   "metadata": {},
   "outputs": [],
   "source": [
    "import numpy as np\n",
    "def struna (init, T, L, h = 5 * 1e-3, tau = 1e-2):\n",
    "    k2 = (tau / h)**2\n",
    "    u = np.zeros((np.int(T / tau), np.int(L / h)))\n",
    "    u[0,:] = init(L, h)\n",
    "    u[1,:] = u[0,:] \n",
    "    for i in range (1, np.int(T / tau) - 1):\n",
    "        for j in range (1, np.int(L / h) - 1):\n",
    "            u[i + 1, j] = k2 * u[i,j - 1] + k2 * u[i,j + 1] + 2 * (1 - k2) * u[i,j] - u[i - 1,j] \n",
    "    return u"
   ]
  },
  {
   "cell_type": "markdown",
   "metadata": {},
   "source": [
    " Возмём струну длиной пи и оттянем её на расстоянии e на единицу, просто потому что мы можем"
   ]
  },
  {
   "cell_type": "code",
   "execution_count": 5,
   "metadata": {},
   "outputs": [],
   "source": [
    "def ya_mogu(L, h):\n",
    "    L = np.pi\n",
    "    u = np.zeros(np.int(L / h))\n",
    "    for i in range (np.int(L / h)):\n",
    "        if i * h < np.e:\n",
    "            u[i] = i * h / np.e\n",
    "        else:\n",
    "            u[i] =  (np.pi - i * h) / (np.pi - np.e)\n",
    "    return u"
   ]
  },
  {
   "cell_type": "code",
   "execution_count": 10,
   "metadata": {},
   "outputs": [],
   "source": [
    " u = struna (ya_mogu, 2, np.pi)"
   ]
  },
  {
   "cell_type": "code",
   "execution_count": 34,
   "metadata": {},
   "outputs": [
    {
     "data": {
      "image/png": "[encoded data removed]",
      "text/plain": [
       "<Figure size 432x288 with 1 Axes>"
      ]
     },
     "metadata": {},
     "output_type": "display_data"
    }
   ],
   "source": [
    "import matplotlib.pyplot as plt\n",
    "from matplotlib import animation, rc\n",
    "from IPython.display import HTML\n",
    "\n",
    "fig, ax = plt.subplots()\n",
    "\n",
    "ax.set_xlim(( 0, np.pi))\n",
    "ax.set_ylim((-2, 2))\n",
    "\n",
    "line, = ax.plot([], [], lw=2)"
   ]
  },
  {
   "cell_type": "code",
   "execution_count": 27,
   "metadata": {},
   "outputs": [
    {
     "data": {
      "image/png": "[encoded data removed]",
      "text/plain": [
       "<Figure size 360x216 with 1 Axes>"
      ]
     },
     "metadata": {},
     "output_type": "display_data"
    }
   ],
   "source": [
    "import matplotlib.pyplot as plt\n",
    "from matplotlib.animation import FuncAnimation\n",
    "\n",
    "plt.rcParams['animation.ffmpeg_path'] = 'C:\\\\ffmpeg\\\\ffmpeg\\\\bin\\\\ffmpeg.exe'\n",
    "fig, ax = plt.subplots(figsize=(5, 3))\n",
    "ax.set_xlim(( 0, np.pi*200))\n",
    "ax.set_ylim((-2, 2))\n",
    "line = ax.plot(u[0, :])[0]\n",
    "\n",
    "def animate(i):\n",
    "    line.set_ydata(u[i, :])\n",
    "    \n",
    "anim = FuncAnimation(fig, animate, interval=50, frames=u.shape[0]-1)"
   ]
  },
  {
   "cell_type": "code",
   "execution_count": null,
   "metadata": {},
   "outputs": [],
   "source": [
    "from IPython.display import HTML\n",
    "HTML(anim.to_html5_video())"
   ]
  },
  {
   "cell_type": "code",
   "execution_count": 16,
   "metadata": {},
   "outputs": [],
   "source": []
  },
  {
   "cell_type": "code",
   "execution_count": 24,
   "metadata": {},
   "outputs": [
    {
     "data": {
      "text/plain": [
       "<matplotlib.animation.FuncAnimation at 0x162f2968d68>"
      ]
     },
     "execution_count": 24,
     "metadata": {},
     "output_type": "execute_result"
    }
   ],
   "source": [
    "anim"
   ]
  },
  {
   "cell_type": "code",
   "execution_count": 30,
   "metadata": {},
   "outputs": [
    {
     "name": "stdout",
     "output_type": "stream",
     "text": [
      "[[0.         0.00036788 0.00073576 ... 0.00848703 0.0061247  0.00376237]\n",
      " [0.         0.00036788 0.00073576 ... 0.00848703 0.0061247  0.00376237]\n",
      " [0.         0.00036788 0.00073576 ... 0.00848703 0.0061247  0.        ]\n",
      " ...\n",
      " [0.                nan        nan ...        nan        nan 0.        ]\n",
      " [0.                nan        nan ...        nan        nan 0.        ]\n",
      " [0.                nan        nan ...        nan        nan 0.        ]]\n"
     ]
    }
   ],
   "source": [
    "print(u)"
   ]
  },
  {
   "cell_type": "code",
   "execution_count": null,
   "metadata": {},
   "outputs": [],
   "source": []
  },
  {
   "cell_type": "code",
   "execution_count": 25,
   "metadata": {},
   "outputs": [],
   "source": [
    "from matplotlib import animation\n",
    "\n",
    "def init():\n",
    "    line.set_data([], [])\n",
    "    return (line,)\n",
    "def animate(i):\n",
    "    x = np.linspace(0, np.pi, 200)\n",
    "    y = u[i]\n",
    "    line.set_data(x, y)\n",
    "    plt.pause(0.1)\n",
    "    return (line,)\n",
    "anim = animation.FuncAnimation(fig, animate, init_func=init,\n",
    "                               frames=100, interval=20, blit=True)"
   ]
  },
  {
   "cell_type": "code",
   "execution_count": null,
   "metadata": {},
   "outputs": [],
   "source": []
  }
 ],
 "metadata": {
  "kernelspec": {
   "display_name": "Python 3",
   "language": "python",
   "name": "python3"
  },
  "language_info": {
   "codemirror_mode": {
    "name": "ipython",
    "version": 3
   },
   "file_extension": ".py",
   "mimetype": "text/x-python",
   "name": "python",
   "nbconvert_exporter": "python",
   "pygments_lexer": "ipython3",
   "version": "3.6.5"
  }
 },
 "nbformat": 4,
 "nbformat_minor": 2
}
