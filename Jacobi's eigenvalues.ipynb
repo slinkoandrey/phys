{
 "cells": [
  {
   "cell_type": "markdown",
   "metadata": {},
   "source": [
    "# Нахождение собственных значений матрицы методом Якоби"
   ]
  },
  {
   "cell_type": "markdown",
   "metadata": {},
   "source": [
    "Введём нашу функцию"
   ]
  },
  {
   "cell_type": "code",
   "execution_count": 1,
   "metadata": {},
   "outputs": [],
   "source": [
    "import numpy as np\n",
    "def jacobi(a, n_iter = 1000, rtol = 1e-9):\n",
    "    n = np.shape(a)[0]\n",
    "    for _ in range (0, n_iter):\n",
    "        delta = np.copy(rtol)\n",
    "        for i in range(0,n):\n",
    "            for j in range(i + 1, n):\n",
    "                if (np.abs(a[i,j]) > delta):\n",
    "                    delta = np.abs(a[i,j])\n",
    "                    tan = 2 * a[i,j] / (a[j,j] - a[i,i])\n",
    "                    t =  0.5 * np.arctan(tan)\n",
    "                J = np.eye(n)\n",
    "                J[i,i] = J[j,j] = np.cos(t)\n",
    "                J[j,i] = np.sin(t)\n",
    "                J[i,j] = -J[j,i]\n",
    "                a = J @ a @ J.T\n",
    "    return np.diagonal(a)"
   ]
  },
  {
   "cell_type": "markdown",
   "metadata": {},
   "source": [
    "Для отладки добавим функцию создания максимально случайных, но симметричных матриц"
   ]
  },
  {
   "cell_type": "code",
   "execution_count": 2,
   "metadata": {},
   "outputs": [],
   "source": [
    "def rndmatrix(k):\n",
    "    rndm = np.random.RandomState(k)\n",
    "    n = rndm.randint(0,100)\n",
    "    a = rndm.rand(n,n)\n",
    "    for i in range(n - 1):\n",
    "        for j in range(i,n-1):\n",
    "            a[i,j] = a[j,i]\n",
    "    return a"
   ]
  },
  {
   "cell_type": "markdown",
   "metadata": {},
   "source": [
    "Посмотрим, что получилось"
   ]
  },
  {
   "cell_type": "code",
   "execution_count": 3,
   "metadata": {},
   "outputs": [
    {
     "name": "stdout",
     "output_type": "stream",
     "text": [
      "True True True\n"
     ]
    }
   ],
   "source": [
    "from numpy.testing import assert_allclose\n",
    "a1 = rndmatrix(28)\n",
    "a2 = rndmatrix(1483)\n",
    "a3 = rndmatrix(73569)\n",
    "print(np.allclose(np.sort(jacobi(a1)),np.sort(np.linalg.eig(a1)[0])),\n",
    "np.allclose(np.sort(jacobi(a2)),np.sort(np.linalg.eig(a2)[0])),\n",
    "np.allclose(np.sort(jacobi(a3)),np.sort(np.linalg.eig(a3)[0])))"
   ]
  }
 ],
 "metadata": {
  "kernelspec": {
   "display_name": "Python 3",
   "language": "python",
   "name": "python3"
  },
  "language_info": {
   "codemirror_mode": {
    "name": "ipython",
    "version": 3
   },
   "file_extension": ".py",
   "mimetype": "text/x-python",
   "name": "python",
   "nbconvert_exporter": "python",
   "pygments_lexer": "ipython3",
   "version": "3.6.5"
  }
 },
 "nbformat": 4,
 "nbformat_minor": 2
}
