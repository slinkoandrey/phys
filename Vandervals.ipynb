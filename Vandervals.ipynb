{
 "cells": [
  {
   "cell_type": "markdown",
   "metadata": {},
   "source": [
    "# Поиск реального поведения газа Ван-дер-Ваальса"
   ]
  },
  {
   "cell_type": "markdown",
   "metadata": {},
   "source": [
    "Импортируем numpy и зададим относительную температуру"
   ]
  },
  {
   "cell_type": "code",
   "execution_count": 1,
   "metadata": {},
   "outputs": [],
   "source": [
    "import numpy as np\n",
    "\n",
    "tau = 0.85"
   ]
  },
  {
   "cell_type": "markdown",
   "metadata": {},
   "source": [
    "Введём функцию поиска давления, а так же перономирующую её на отрезок -1,1 с произвольного"
   ]
  },
  {
   "cell_type": "code",
   "execution_count": 2,
   "metadata": {},
   "outputs": [],
   "source": [
    "def pi(fi):\n",
    "    return -3 / (fi**2) + (8 * tau / 3)/(fi - 1/3)\n",
    "\n",
    "def pi_norm(f, a, b, fi):\n",
    "    return pi(((b - a) / 2) * (fi + 1 + 2*a / (b - a))) * (b - a) / 2"
   ]
  },
  {
   "cell_type": "markdown",
   "metadata": {},
   "source": [
    "Введём функцию, считающую Гауссом-Лежандром интеграл по двум точкам"
   ]
  },
  {
   "cell_type": "code",
   "execution_count": 3,
   "metadata": {},
   "outputs": [],
   "source": [
    "def integr(f, a, b, x):\n",
    "    return pi_norm(f, a, b, -1/np.sqrt(3)) + pi_norm(f, a, b, 1/np.sqrt(3))"
   ]
  },
  {
   "cell_type": "markdown",
   "metadata": {},
   "source": [
    "Введём функцию поиска корней нашего уравнения как собственных значений сопровождающей матрицы"
   ]
  },
  {
   "cell_type": "code",
   "execution_count": 4,
   "metadata": {},
   "outputs": [],
   "source": [
    "def sol(pi):\n",
    "    x = np.zeros((3,3), dtype = float)\n",
    "    x[1,0] = x[2,1] = 1\n",
    "    x[0,2] = 1/pi\n",
    "    x[1,2] = -3/pi\n",
    "    x[2,2] = 1/3 - 8/3 * tau/pi\n",
    "    roots, vectors = np.linalg.eig(x)\n",
    "    return(roots)    "
   ]
  },
  {
   "cell_type": "markdown",
   "metadata": {},
   "source": [
    "Введём функцию поиска значения, приравнивающего значения двух интегралов"
   ]
  },
  {
   "cell_type": "code",
   "execution_count": 5,
   "metadata": {},
   "outputs": [],
   "source": [
    "def search(pi1 = 0.1, pi2 = 0.7, atol = 1e-4):\n",
    "    pi = (pi1 + pi2) / 2\n",
    "    roots = sol(pi)\n",
    "    a = np.amin(roots)\n",
    "    b = np.amax(roots)\n",
    "    old = integr(pi, a, b, pi)\n",
    "    new = 10\n",
    "    while (np.abs ((new - old) / new) > atol):\n",
    "        if (new > 0):\n",
    "            pi1 = pi\n",
    "            pi = (pi2 + pi) / 2 \n",
    "        else:\n",
    "            pi2 = pi\n",
    "            pi = (pi + pi1) / 2\n",
    "        roots = sol(pi)\n",
    "        a = np.amin(roots)\n",
    "        b = np.amax(roots)\n",
    "        new = integr(pi, a, b, pi)\n",
    "    return pi"
   ]
  },
  {
   "cell_type": "markdown",
   "metadata": {},
   "source": [
    "Порисуем"
   ]
  },
  {
   "cell_type": "code",
   "execution_count": 8,
   "metadata": {},
   "outputs": [
    {
     "name": "stdout",
     "output_type": "stream",
     "text": [
      "0.4000091552734375\n"
     ]
    },
    {
     "data": {
      "image/png": "[encoded data removed]",
      "text/plain": [
       "<Figure size 432x288 with 1 Axes>"
      ]
     },
     "metadata": {},
     "output_type": "display_data"
    }
   ],
   "source": [
    "import matplotlib.pyplot as plt\n",
    "\n",
    "x = np.linspace(0.5, 5, 1000)\n",
    "y = pi(x)\n",
    "y1 = np.zeros(1000)\n",
    "pi0 = search()\n",
    "y1 += pi0\n",
    "print(pi0)\n",
    "plt.plot(x,y)\n",
    "plt.plot(x, y1)\n",
    "plt.show()"
   ]
  },
  {
   "cell_type": "code",
   "execution_count": null,
   "metadata": {},
   "outputs": [],
   "source": []
  }
 ],
 "metadata": {
  "kernelspec": {
   "display_name": "Python 3",
   "language": "python",
   "name": "python3"
  },
  "language_info": {
   "codemirror_mode": {
    "name": "ipython",
    "version": 3
   },
   "file_extension": ".py",
   "mimetype": "text/x-python",
   "name": "python",
   "nbconvert_exporter": "python",
   "pygments_lexer": "ipython3",
   "version": "3.6.5"
  }
 },
 "nbformat": 4,
 "nbformat_minor": 2
}
