{
 "cells": [
  {
   "cell_type": "markdown",
   "metadata": {},
   "source": [
    "Введём функцию поиска минимума, а так же фукнкцию, минимум которой будем искать"
   ]
  },
  {
   "cell_type": "code",
   "execution_count": 1,
   "metadata": {
    "collapsed": true
   },
   "outputs": [],
   "source": [
    "import math\n",
    "\n",
    "def minimum(eps, x1, x2):\n",
    "    if abs(x1 - x2) <= eps:\n",
    "        return (x1 + x2) / 2\n",
    "    else:\n",
    "        x3 = x1 + abs(x1 - x2) / 1.618\n",
    "        x4 = x2 - abs(x3 - x2) / 1.618\n",
    "        if f(x3) > f(x4):\n",
    "            return minimum(eps, x3, x2)\n",
    "        else:\n",
    "            return minimum(eps, x1, x3)\n",
    "        \n",
    "def f(x):\n",
    "    return (-1) * math.cos(x)"
   ]
  },
  {
   "cell_type": "markdown",
   "metadata": {},
   "source": [
    "Теперь найдём попробуем найти минимум, равный нулю"
   ]
  },
  {
   "cell_type": "code",
   "execution_count": 2,
   "metadata": {},
   "outputs": [
    {
     "name": "stdout",
     "output_type": "stream",
     "text": [
      "-0.0002420323002616035\n"
     ]
    }
   ],
   "source": [
    "print(minimum(0.001, - 1, 1))"
   ]
  },
  {
   "cell_type": "markdown",
   "metadata": {},
   "source": [
    "Теперь сместимся до минимума 4pi и повысим точность"
   ]
  },
  {
   "cell_type": "code",
   "execution_count": 3,
   "metadata": {},
   "outputs": [
    {
     "name": "stdout",
     "output_type": "stream",
     "text": [
      "3.9999970764880803\n"
     ]
    }
   ],
   "source": [
    "print(minimum(10 ** -8, math.pi * 4 - 1.5, math.pi * 4 + 1.2) / math.pi)"
   ]
  },
  {
   "cell_type": "markdown",
   "metadata": {},
   "source": [
    "Все минимумы найдены"
   ]
  }
 ],
 "metadata": {
  "kernelspec": {
   "display_name": "Python 3",
   "language": "python",
   "name": "python3"
  },
  "language_info": {
   "codemirror_mode": {
    "name": "ipython",
    "version": 3
   },
   "file_extension": ".py",
   "mimetype": "text/x-python",
   "name": "python",
   "nbconvert_exporter": "python",
   "pygments_lexer": "ipython3",
   "version": "3.6.3"
  }
 },
 "nbformat": 4,
 "nbformat_minor": 2
}
