{
 "cells": [
  {
   "cell_type": "markdown",
   "metadata": {},
   "source": [
    "Импортируем библиотеки и введём необходимую точность"
   ]
  },
  {
   "cell_type": "code",
   "execution_count": 1,
   "metadata": {},
   "outputs": [],
   "source": [
    "import math\n",
    "\n",
    "eps = 10 ** -10"
   ]
  },
  {
   "cell_type": "markdown",
   "metadata": {},
   "source": [
    "Введём функцию, корни которой ищем"
   ]
  },
  {
   "cell_type": "code",
   "execution_count": 2,
   "metadata": {},
   "outputs": [],
   "source": [
    "def f(x, k):\n",
    "    return abs(math.sin(x)) - k * x"
   ]
  },
  {
   "cell_type": "markdown",
   "metadata": {},
   "source": [
    "Введём функцию, которая находит корни делением отрезка пополам при положительных k"
   ]
  },
  {
   "cell_type": "code",
   "execution_count": 3,
   "metadata": {},
   "outputs": [],
   "source": [
    "def search(k):\n",
    "    out = []\n",
    "    l = math.pi / -2\n",
    "    r = 0.0\n",
    "    mid = 0.0\n",
    "    while(k * l <= 1):\n",
    "        l += math.pi / 2\n",
    "        r += math.pi / 2\n",
    "        if(f(l, k) * f(r, k) < 0):\n",
    "            mid = (l + r) / 2\n",
    "            while (abs(f(mid, k)) > eps):\n",
    "                mid = (l + r) / 2\n",
    "                if(f(mid, k) * f(l, k) > 0):\n",
    "                    l = mid\n",
    "                else:\n",
    "                    r = mid\n",
    "        out += [mid]\n",
    "    return out"
   ]
  },
  {
   "cell_type": "markdown",
   "metadata": {},
   "source": [
    "Введём функцию, обрабатывающую особые условия и выводящую ответ"
   ]
  },
  {
   "cell_type": "code",
   "execution_count": 4,
   "metadata": {},
   "outputs": [],
   "source": [
    "def solution(k):\n",
    "    if k == 0:\n",
    "        out = ('pi*n')\n",
    "    elif abs(k) >= 1:\n",
    "        out = (0.0)\n",
    "    elif k > 0:\n",
    "        out = search(k)\n",
    "    else:\n",
    "        k *= -1\n",
    "        temp = search(k)\n",
    "        out = [-1 * a for a in temp]\n",
    "    print(out)"
   ]
  },
  {
   "cell_type": "markdown",
   "metadata": {},
   "source": [
    "Проверим работу на разных k"
   ]
  },
  {
   "cell_type": "code",
   "execution_count": 5,
   "metadata": {},
   "outputs": [
    {
     "name": "stdout",
     "output_type": "stream",
     "text": [
      "pi*n\n"
     ]
    }
   ],
   "source": [
    "solution(0)"
   ]
  },
  {
   "cell_type": "code",
   "execution_count": 6,
   "metadata": {},
   "outputs": [
    {
     "name": "stdout",
     "output_type": "stream",
     "text": [
      "0.0\n"
     ]
    }
   ],
   "source": [
    "solution(10)"
   ]
  },
  {
   "cell_type": "code",
   "execution_count": 7,
   "metadata": {},
   "outputs": [
    {
     "name": "stdout",
     "output_type": "stream",
     "text": [
      "[0.0, 1.895494267035986, 1.895494267035986]\n"
     ]
    }
   ],
   "source": [
    "solution(0.5)"
   ]
  },
  {
   "cell_type": "code",
   "execution_count": 8,
   "metadata": {},
   "outputs": [
    {
     "name": "stdout",
     "output_type": "stream",
     "text": [
      "[-0.0, -2.159769786989312, -2.159769786989312]\n"
     ]
    }
   ],
   "source": [
    "solution(-0.385)"
   ]
  }
 ],
 "metadata": {
  "kernelspec": {
   "display_name": "Python 3",
   "language": "python",
   "name": "python3"
  },
  "language_info": {
   "codemirror_mode": {
    "name": "ipython",
    "version": 3
   },
   "file_extension": ".py",
   "mimetype": "text/x-python",
   "name": "python",
   "nbconvert_exporter": "python",
   "pygments_lexer": "ipython3",
   "version": "3.6.3"
  }
 },
 "nbformat": 4,
 "nbformat_minor": 2
}
