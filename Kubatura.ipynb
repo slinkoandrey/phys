{
 "cells": [
  {
   "cell_type": "markdown",
   "metadata": {},
   "source": [
    "# Вычисление кубатур методом Монте-Карло\n",
    "\n",
    "Наша задача - посчитать объём вот такой фигуры:\n",
    "$$(\\frac x a + \\frac y b + \\frac z c)^2 < \\frac x a + \\frac y b - \\frac z p$$\n",
    "Вольфрам говорит, что это параболический цилиндр, который раскрывается в область отрицательных значений. Однако прямая, вдоль которой мы тащим параболу для получения цилиндра, лежит выше плоскости Oxy, поэтому интеграл по всем положительным значениям всех переменных заведомо разойдётся.\n",
    "<img src=\"Downloads/1.png\">\n",
    "<img src=\"Downloads/2.png\">"
   ]
  },
  {
   "cell_type": "markdown",
   "metadata": {},
   "source": [
    "Поэтому я буду считать интеграл не по всем положительным x и y, а только от 0 до 1. Введём нашу функцию. Значения параметров выбраны такие, потому что почему бы и нет."
   ]
  },
  {
   "cell_type": "code",
   "execution_count": 1,
   "metadata": {},
   "outputs": [],
   "source": [
    "def func(x, y, z):\n",
    "    return x / a + y / b - z / p < (x / a + y / b + z / c)**2"
   ]
  },
  {
   "cell_type": "markdown",
   "metadata": {},
   "source": [
    "Теперь проинтегрируём её по Монте-Карло равномерно и по соболю"
   ]
  },
  {
   "cell_type": "code",
   "execution_count": 2,
   "metadata": {},
   "outputs": [
    {
     "name": "stdout",
     "output_type": "stream",
     "text": [
      "0.054\n",
      "0.048\n"
     ]
    }
   ],
   "source": [
    "import numpy as np\n",
    "import sobol_seq\n",
    "\n",
    "n = 1000\n",
    "a, b, c, p = 20, 30, 40, 50\n",
    "rndm = np.random.RandomState(5)\n",
    "q = rndm.uniform(0, 1, [n, 3])\n",
    "s = sobol_seq.i4_sobol_generate(3, n) \n",
    "insideq = insides = 0.0\n",
    "for i in range(n):\n",
    "    if (func(q[i][0], q[i][1], q[i][2])):\n",
    "        insideq += 1\n",
    "print(insideq / n)\n",
    "for i in range(n):\n",
    "    if (func(s[i][0], s[i][1], s[i][2])):\n",
    "        insides += 1\n",
    "print(insides / n)"
   ]
  },
  {
   "cell_type": "markdown",
   "metadata": {},
   "source": [
    "Получаем не слишком близкие ответы, но при увелечении точек они приближаются друг к другу"
   ]
  },
  {
   "cell_type": "code",
   "execution_count": 3,
   "metadata": {},
   "outputs": [
    {
     "name": "stdout",
     "output_type": "stream",
     "text": [
      "0.04598\n",
      "0.04695\n"
     ]
    }
   ],
   "source": [
    "n = 100000\n",
    "q = rndm.uniform(0, 1, [n, 3])\n",
    "s = sobol_seq.i4_sobol_generate(3, n) \n",
    "insideq = insides = 0.0\n",
    "for i in range(n):\n",
    "    if (func(q[i][0], q[i][1], q[i][2])):\n",
    "        insideq += 1\n",
    "print(insideq / n)\n",
    "for i in range(n):\n",
    "    if (func(s[i][0], s[i][1], s[i][2])):\n",
    "        insides += 1\n",
    "print(insides / n)"
   ]
  },
  {
   "cell_type": "markdown",
   "metadata": {},
   "source": [
    "Можно и точнее, но это слишком много считать надо."
   ]
  },
  {
   "cell_type": "code",
   "execution_count": null,
   "metadata": {},
   "outputs": [],
   "source": []
  }
 ],
 "metadata": {
  "kernelspec": {
   "display_name": "Python 3",
   "language": "python",
   "name": "python3"
  },
  "language_info": {
   "codemirror_mode": {
    "name": "ipython",
    "version": 3
   },
   "file_extension": ".py",
   "mimetype": "text/x-python",
   "name": "python",
   "nbconvert_exporter": "python",
   "pygments_lexer": "ipython3",
   "version": "3.6.5"
  }
 },
 "nbformat": 4,
 "nbformat_minor": 2
}
