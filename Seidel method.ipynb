{
 "cells": [
  {
   "cell_type": "markdown",
   "metadata": {},
   "source": [
    "# Решение СЛАУ методом Зейделя\n",
    "\n",
    "Импортируем numpy"
   ]
  },
  {
   "cell_type": "code",
   "execution_count": 1,
   "metadata": {},
   "outputs": [],
   "source": [
    "import numpy as np"
   ]
  },
  {
   "cell_type": "markdown",
   "metadata": {},
   "source": [
    "Введём саму функцию"
   ]
  },
  {
   "cell_type": "code",
   "execution_count": 2,
   "metadata": {},
   "outputs": [],
   "source": [
    "def seidel(A, b, rtol = 1e-9, maxint = 10000):\n",
    "    n = A.shape[0]\n",
    "    L = np.zeros([n,n])\n",
    "    U = np.zeros([n,n])\n",
    "    for i in range(n):\n",
    "        for j in range(n):\n",
    "            if j <= i:\n",
    "                L[i,j] = A[i,j]\n",
    "            else:\n",
    "                U[i,j] = A[i,j]\n",
    "    L_1 = np.linalg.inv(L)\n",
    "    old = np.zeros(n)\n",
    "    for i in range(maxint):\n",
    "        new = L_1 @ (b - U @ old)\n",
    "        if np.sum(np.abs(new - old)) < rtol:\n",
    "            return new\n",
    "        old = new\n",
    "    return new"
   ]
  },
  {
   "cell_type": "markdown",
   "metadata": {},
   "source": [
    "Проверим работоспособность на случайной матрице"
   ]
  },
  {
   "cell_type": "code",
   "execution_count": 3,
   "metadata": {},
   "outputs": [
    {
     "data": {
      "text/plain": [
       "True"
      ]
     },
     "execution_count": 3,
     "metadata": {},
     "output_type": "execute_result"
    }
   ],
   "source": [
    "rndm = np.random.RandomState(609)\n",
    "n = rndm.randint(0,100)\n",
    "A = rndm.rand(n,n)\n",
    "b = rndm.rand(n)\n",
    "np.allclose(seidel(A, b), np.linalg.solve(A, b))"
   ]
  },
  {
   "cell_type": "markdown",
   "metadata": {},
   "source": [
    "Мне кажется, добавить нечего"
   ]
  },
  {
   "cell_type": "code",
   "execution_count": null,
   "metadata": {},
   "outputs": [],
   "source": []
  }
 ],
 "metadata": {
  "kernelspec": {
   "display_name": "Python 3",
   "language": "python",
   "name": "python3"
  },
  "language_info": {
   "codemirror_mode": {
    "name": "ipython",
    "version": 3
   },
   "file_extension": ".py",
   "mimetype": "text/x-python",
   "name": "python",
   "nbconvert_exporter": "python",
   "pygments_lexer": "ipython3",
   "version": "3.6.5"
  }
 },
 "nbformat": 4,
 "nbformat_minor": 2
}
