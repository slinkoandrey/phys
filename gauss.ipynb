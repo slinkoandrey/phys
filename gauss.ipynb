{
 "cells": [
  {
   "cell_type": "markdown",
   "metadata": {},
   "source": [
    "Для проверки замкнутости системы введём функцию рекурсивного вычисления определителя\n",
    "\n"
   ]
  },
  {
   "cell_type": "code",
   "execution_count": 1,
   "metadata": {},
   "outputs": [],
   "source": [
    "def det(a): #вычисление определителя\n",
    "    d = 0\n",
    "    if len(a) == 2:\n",
    "        d = a[0][0] * a[1][1] - a[1][0] * a[0][1]\n",
    "    else:\n",
    "        for i in range (len(a)):\n",
    "            d += (-1) ** i * a[0][i] * det(dop(a,i))\n",
    "    return d\n",
    "            \n",
    "def dop(a, ind):   #вычисление минора a[1][ind]\n",
    "    b = [0] * (len(a) - 1)\n",
    "    for i in range(len(a) - 1):\n",
    "        b[i] = [0] * (len(a) - 1)\n",
    "    for i in range(len(a) - 1):\n",
    "        flag = 0\n",
    "        for j in range (len(a)):\n",
    "            if j == ind:\n",
    "                flag = 1\n",
    "            else:\n",
    "                b[i][j - flag] = a[i + 1][j]\n",
    "    return b"
   ]
  },
  {
   "cell_type": "markdown",
   "metadata": {
    "collapsed": true
   },
   "source": [
    "Введем функцию, собственно, решающую систему"
   ]
  },
  {
   "cell_type": "code",
   "execution_count": 2,
   "metadata": {
    "collapsed": true
   },
   "outputs": [],
   "source": [
    "def solve(a, n):   #решение системы как таковое\n",
    "    for k in range(n): \n",
    "        aa = abs(a[k][k])\n",
    "        i = k\n",
    "        for m in range(k+1,n): #Поиск максимального элемента в первом столбце\n",
    "            if abs(a[m][k]) > aa:\n",
    "                i = m\n",
    "                aa = abs(a[m][k])\n",
    "        if i != k: #  перестановка i-ой строки, содержащей главный элемент k-ой строки\n",
    "            for j in range (k, n+1):\n",
    "                bb = a[k][j]\n",
    "                a[k][j] = a[i][j]\n",
    "                a[i][j] = bb\n",
    "        aa = a[k][k] #Вычисление множителей\n",
    "        for j in range(k, n+1): \n",
    "            a[k][j] /= aa\n",
    "        for i in range(k+1, n): #преобразование строк с помощью k-ой строки\n",
    "            bb = a[i][k]\n",
    "            a[i][k] = 0\n",
    "            if bb != 0:\n",
    "                for j in range(k+1,n+1):\n",
    "                    a[i][j] -= bb * a[k][j]\n",
    "    for i in range(n - 1, -1, -1):    #обратный ход\n",
    "        for j in range(i+1, n ):\n",
    "            a[i][n] -= a[i][j] * a[j][n]\n",
    "    return a"
   ]
  },
  {
   "cell_type": "markdown",
   "metadata": {},
   "source": [
    "Введём функцию, проверяющую систему и выводящую решения"
   ]
  },
  {
   "cell_type": "code",
   "execution_count": 4,
   "metadata": {
    "collapsed": true
   },
   "outputs": [],
   "source": [
    "def gauss(a):\n",
    "    n = len(a)\n",
    "    if det(a) == 0:\n",
    "        print(\"Нет решений\")\n",
    "    else:\n",
    "        a = solve(a, n)\n",
    "        for i in range(n): #вывод решений\n",
    "            print(a[i][n])"
   ]
  },
  {
   "cell_type": "markdown",
   "metadata": {},
   "source": [
    "Проверим работу на системе два на два: 2x + 5y = 121 3x + 6y = 9 Решенями являются числа -227 и 115\n"
   ]
  },
  {
   "cell_type": "code",
   "execution_count": 10,
   "metadata": {},
   "outputs": [
    {
     "name": "stdout",
     "output_type": "stream",
     "text": [
      "[[2, 5, 121], [3, 6, 9]]\n",
      "-227.0\n",
      "115.0\n"
     ]
    }
   ],
   "source": [
    "a = [[2, 5, 121],[3, 6, 9]]\n",
    "print(a)\n",
    "gauss(a)"
   ]
  },
  {
   "cell_type": "markdown",
   "metadata": {},
   "source": [
    "Теперь система 3 на 3: 2x - 15y - 100003z = -42517 x - 92y - 116z = -274684 -9x + 299y = -7239 Решения - 156384, 4683, 2"
   ]
  },
  {
   "cell_type": "code",
   "execution_count": 11,
   "metadata": {},
   "outputs": [
    {
     "name": "stdout",
     "output_type": "stream",
     "text": [
      "[[2, -15, 100003, 42517], [1, -92, -116, -274684], [-9, 299, 0, -7239]]\n",
      "156646.52739883846\n",
      "4690.902162506843\n",
      "-2.0040651016476927\n"
     ]
    }
   ],
   "source": [
    "a = [[2, -15, 100003, 42517], [1, -92, -116, -274684], [-9, 299, 0, -7239]]\n",
    "print(a)\n",
    "gauss(a)"
   ]
  },
  {
   "cell_type": "markdown",
   "metadata": {},
   "source": [
    "Благодоря поиску корневого элемента, каждый корень найден с погрешностью меньше процента, при том что отличаются они на 5 порядков\n",
    "\n",
    "Посмотрим на поведение програмы в случае незамкнутых систем"
   ]
  },
  {
   "cell_type": "code",
   "execution_count": 15,
   "metadata": {},
   "outputs": [
    {
     "name": "stdout",
     "output_type": "stream",
     "text": [
      "[[1, 2, 56], [2, 4, 25]]\n",
      "Нет решений\n"
     ]
    }
   ],
   "source": [
    "a = [[1,2,56],[2,4,25]]\n",
    "print(a)\n",
    "gauss(a)"
   ]
  },
  {
   "cell_type": "markdown",
   "metadata": {},
   "source": [
    "Теперь решим систему 10 на 10 со случайными целыми коэффициентами не больше 100 по модулю"
   ]
  },
  {
   "cell_type": "code",
   "execution_count": 14,
   "metadata": {},
   "outputs": [
    {
     "name": "stdout",
     "output_type": "stream",
     "text": [
      "[[-82, -15, 99, 89, -59, -43, -28, 25, 90, 10, -25], [-32, 69, -94, -59, -59, 7, -40, -16, 49, -6, -22], [-35, 84, 89, 11, 91, 26, 58, -36, -89, -72, 42], [20, -97, -56, -15, -71, -22, 91, -74, 34, -45, 56], [-84, -45, -68, 46, 70, 37, 48, -3, 24, -61, -25], [8, 28, -70, -50, 74, -61, 40, 55, 14, 44, 93], [99, -1, -30, -91, 42, 8, 76, -24, 82, -58, 10], [-41, 90, 41, 80, -19, 31, 52, 47, 94, -89, 59], [39, -17, -62, -3, 29, -23, 100, -66, -43, -87, -87], [44, -28, -92, 8, -40, 73, 29, -56, -61, -98, -71]]\n",
      "-1.2691387590367376\n",
      "-0.38311151599079885\n",
      "0.7779346673226484\n",
      "-2.009276350438612\n",
      "-1.3568828254012049\n",
      "1.0340278919407273\n",
      "2.2696726573071064\n",
      "2.352776761244802\n",
      "-0.7648797572866726\n",
      "0.49717183272794757\n"
     ]
    }
   ],
   "source": [
    "import random\n",
    "a = [[(random.randint(-100, 100)) for i in range(11)] for j in range (10)]\n",
    "print(a)\n",
    "gauss(a)"
   ]
  }
 ],
 "metadata": {
  "kernelspec": {
   "display_name": "Python 3",
   "language": "python",
   "name": "python3"
  },
  "language_info": {
   "codemirror_mode": {
    "name": "ipython",
    "version": 3
   },
   "file_extension": ".py",
   "mimetype": "text/x-python",
   "name": "python",
   "nbconvert_exporter": "python",
   "pygments_lexer": "ipython3",
   "version": "3.6.3"
  }
 },
 "nbformat": 4,
 "nbformat_minor": 2
}
