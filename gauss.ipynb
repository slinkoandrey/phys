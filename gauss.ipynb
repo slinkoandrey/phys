{
 "cells": [
  {
   "cell_type": "markdown",
   "metadata": {},
   "source": [
    "Для проверки замкнутости системы введём функцию рекурсивного вычисления определителя"
   ]
  },
  {
   "cell_type": "code",
   "execution_count": 1,
   "metadata": {},
   "outputs": [],
   "source": [
    "def det(a): #вычисление определителя\n",
    "    d = 0\n",
    "    if len(a) == 2:\n",
    "        d = a[0][0] * a[1][1] - a[1][0] * a[0][1]\n",
    "    else:\n",
    "        for i in range (len(a)):\n",
    "            d += (-1) ** i * a[0][i] * det(dop(a,i))\n",
    "    return d\n",
    "            \n",
    "def dop(a, ind):   #вычисление минора a[1][ind]\n",
    "    b = [0] * (len(a) - 1)\n",
    "    for i in range(len(a) - 1):\n",
    "        b[i] = [0] * (len(a) - 1)\n",
    "    for i in range(len(a) - 1):\n",
    "        flag = 0\n",
    "        for j in range (len(a)):\n",
    "            if j == ind:\n",
    "                flag = 1\n",
    "            else:\n",
    "                b[i][j - flag] = a[i + 1][j]\n",
    "    return b"
   ]
  },
  {
   "cell_type": "markdown",
   "metadata": {},
   "source": [
    "Введём функцию, собственно, решающую систему"
   ]
  },
  {
   "cell_type": "code",
   "execution_count": 2,
   "metadata": {},
   "outputs": [],
   "source": [
    "def solve(a, n):   #решение системы как таковое\n",
    "    for k in range(n): \n",
    "        aa = abs(a[k][k])\n",
    "        i = k\n",
    "        for m in range(k+1,n): #Поиск максимального элемента в первом столбце\n",
    "            if abs(a[m][k]) > aa:\n",
    "                i = m\n",
    "                aa = abs(a[m][k])\n",
    "        if i != k: #  перестановка i-ой строки, содержащей главный элемент k-ой строки\n",
    "            for j in range (k, n+1):\n",
    "                bb = a[k][j]\n",
    "                a[k][j] = a[i][j]\n",
    "                a[i][j] = bb\n",
    "        aa = a[k][k] #Вычисление множителей\n",
    "        for j in range(k, n+1): \n",
    "            a[k][j] /= aa\n",
    "        for i in range(k+1, n): #преобразование строк с помощью k-ой строки\n",
    "            bb = a[i][k]\n",
    "            a[i][k] = 0\n",
    "            if bb != 0:\n",
    "                for j in range(k+1,n+1):\n",
    "                    a[i][j] -= bb * a[k][j]\n",
    "    for i in range(n - 1, -1, -1):    #обратный ход\n",
    "        for j in range(i+1, n ):\n",
    "            a[i][n] -= a[i][j] * a[j][n]\n",
    "    return a"
   ]
  },
  {
   "cell_type": "markdown",
   "metadata": {},
   "source": [
    "Введём функцию, проверяющую систему и выводящую решения"
   ]
  },
  {
   "cell_type": "code",
   "execution_count": 3,
   "metadata": {},
   "outputs": [],
   "source": [
    "def gauss(a):\n",
    "    n = len(a)\n",
    "    if det(a) == 0:\n",
    "        print(\"Нет решений\")\n",
    "    else:\n",
    "        a = solve(a, n)\n",
    "        for i in range(n): #вывод решений\n",
    "            print(a[i][n])"
   ]
  },
  {
   "cell_type": "markdown",
   "metadata": {},
   "source": [
    "Проверим работу на системе два на два:\n",
    "2x + 5y = 121\n",
    "3x + 6y = 9\n",
    "Решенями являются числа -227 и 115"
   ]
  },
  {
   "cell_type": "code",
   "execution_count": 4,
   "metadata": {},
   "outputs": [
    {
     "name": "stdout",
     "output_type": "stream",
     "text": [
      "-227.0\n",
      "115.0\n"
     ]
    }
   ],
   "source": [
    "gauss([[2, 5, 121],[3, 6, 9]])"
   ]
  },
  {
   "cell_type": "markdown",
   "metadata": {},
   "source": [
    "Теперь система 3 на 3:\n",
    "2x - 15y - 100003z = -42517\n",
    "x - 92y - 116z = -274684\n",
    "-9x + 299y = -7239\n",
    "Решения - 156384, 4683, 2"
   ]
  },
  {
   "cell_type": "code",
   "execution_count": 5,
   "metadata": {},
   "outputs": [
    {
     "name": "stdout",
     "output_type": "stream",
     "text": [
      "156646.52739883846\n",
      "4690.902162506843\n",
      "-2.0040651016476927\n"
     ]
    }
   ],
   "source": [
    "gauss([[2, -15, 100003, 42517], [1, -92, -116, -274684], [-9, 299, 0, -7239]])"
   ]
  },
  {
   "cell_type": "markdown",
   "metadata": {},
   "source": [
    "Благодоря поиску корневого элемента, каждый корень найден с погрешностью меньше процента, при том что отличаются они на 5 порядков"
   ]
  },
  {
   "cell_type": "markdown",
   "metadata": {},
   "source": [
    "Посмотрим на поведение програмы в случае незамкнутых систем"
   ]
  },
  {
   "cell_type": "code",
   "execution_count": 7,
   "metadata": {},
   "outputs": [
    {
     "name": "stdout",
     "output_type": "stream",
     "text": [
      "Нет решений\n"
     ]
    }
   ],
   "source": [
    "gauss([[1,2,56],[2,4,25]])"
   ]
  },
  {
   "cell_type": "markdown",
   "metadata": {},
   "source": [
    "Теперь решим систему 10 на 10 со случайными целыми коэффициентами не больше 100 по модулю"
   ]
  },
  {
   "cell_type": "code",
   "execution_count": 8,
   "metadata": {},
   "outputs": [
    {
     "name": "stdout",
     "output_type": "stream",
     "text": [
      "-4.14394896804341\n",
      "1.551525570486635\n",
      "3.122033243240075\n",
      "2.9557597081412728\n",
      "3.359531617169587\n",
      "-0.1473833832113212\n",
      "2.147727015072051\n",
      "-2.701290954604559\n",
      "0.09224780653495301\n",
      "0.583343110974195\n"
     ]
    }
   ],
   "source": [
    "import random\n",
    "gauss([[(random.randint(-100, 100)) for i in range(11)] for j in range (10)])"
   ]
  }
 ],
 "metadata": {
  "kernelspec": {
   "display_name": "Python 3",
   "language": "python",
   "name": "python3"
  },
  "language_info": {
   "codemirror_mode": {
    "name": "ipython",
    "version": 3
   },
   "file_extension": ".py",
   "mimetype": "text/x-python",
   "name": "python",
   "nbconvert_exporter": "python",
   "pygments_lexer": "ipython3",
   "version": "3.6.3"
  }
 },
 "nbformat": 4,
 "nbformat_minor": 2
}
