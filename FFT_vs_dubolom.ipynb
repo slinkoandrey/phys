{
 "cells": [
  {
   "cell_type": "markdown",
   "metadata": {},
   "source": [
    "# Сравнение fft с дуболомным преобразованием Фурье\n",
    "\n",
    "Из numpy нам потребуется только функции для пи и для экспоненты. Чтобы любой смог увидеть, что его часть с fft трогать не будем, импортируем только указанные функции"
   ]
  },
  {
   "cell_type": "code",
   "execution_count": 1,
   "metadata": {},
   "outputs": [],
   "source": [
    "from numpy import pi as nppi\n",
    "from numpy import exp as npexp"
   ]
  },
  {
   "cell_type": "markdown",
   "metadata": {},
   "source": [
    "Введём функцию дуболомных прямого и обратного преобразований Фурье, как завещал Numerical recipes"
   ]
  },
  {
   "cell_type": "code",
   "execution_count": 2,
   "metadata": {},
   "outputs": [],
   "source": [
    "def dubolom(x):\n",
    "    n = len(x)\n",
    "    result = [None] * n\n",
    "    W = [npexp(-2j * nppi * i / n) for i in range(n)]\n",
    "    for j in range(n):\n",
    "        result[j] = sum([W[i] ** j * x[i] for i in range(n)])\n",
    "    return result   \n",
    "\n",
    "def idubolom(x):\n",
    "    n = len(x)\n",
    "    result = [None] * n\n",
    "    W = [npexp(2j * nppi * i / n) for i in range(n)]\n",
    "    for j in range(n):\n",
    "        result[j] = sum([W[i] ** j * x[i] / n for i in range(n)])\n",
    "    return result   "
   ]
  },
  {
   "cell_type": "markdown",
   "metadata": {},
   "source": [
    "То же для ifft"
   ]
  },
  {
   "cell_type": "code",
   "execution_count": 3,
   "metadata": {},
   "outputs": [],
   "source": [
    "def fft(x):\n",
    "    n = len(x)\n",
    "    if n == 1: \n",
    "        return x\n",
    "    chet = fft(x[0::2])\n",
    "    nechet =  fft(x[1::2])\n",
    "    T = [npexp(-2j * nppi * i / n) * nechet[i] for i in range(n // 2)]\n",
    "    result = [chet[i] + T[i] for i in range(n // 2)] + \\\n",
    "            [chet[i] - T[i] for i in range(n // 2)]\n",
    "    return result\n",
    "\n",
    "\n",
    "def ifft(x):\n",
    "    n = len(x)\n",
    "    a = _ifft(x)\n",
    "    return [a[i] / n for i in range(n)]\n",
    "    \n",
    "    \n",
    "def _ifft(x):\n",
    "    n = len(x)\n",
    "    if n == 1: \n",
    "        return x\n",
    "    chet = _ifft(x[0::2])\n",
    "    nechet =  _ifft(x[1::2])\n",
    "    T = [npexp(2j * nppi * i / n) * nechet[i] for i in range(n // 2)]\n",
    "    result = [(chet[i] + T[i]) for i in range(n // 2)] + \\\n",
    "            [(chet[i] - T[i]) for i in range(n // 2)]\n",
    "    return result"
   ]
  },
  {
   "cell_type": "markdown",
   "metadata": {},
   "source": [
    "Добавим функцию, которая будет делать нам сетку"
   ]
  },
  {
   "cell_type": "code",
   "execution_count": 4,
   "metadata": {},
   "outputs": [],
   "source": [
    "def setka(f, n = 1024, a = 0, b = 16):\n",
    "    step = (b - a) / n\n",
    "    return [f(a + step * i) for i in range(n)]"
   ]
  },
  {
   "cell_type": "markdown",
   "metadata": {},
   "source": [
    "Для проверки работоспособности импортируем ещё одну функцию numpy, а так же его коробочное решение"
   ]
  },
  {
   "cell_type": "code",
   "execution_count": 5,
   "metadata": {},
   "outputs": [],
   "source": [
    "from numpy import allclose \n",
    "from numpy.fft import fft as npfft\n",
    "from numpy.fft import ifft as npifft"
   ]
  },
  {
   "cell_type": "markdown",
   "metadata": {},
   "source": [
    "Введём какую-нибудь неприятную функцию"
   ]
  },
  {
   "cell_type": "code",
   "execution_count": 6,
   "metadata": {},
   "outputs": [],
   "source": [
    "def f(x):\n",
    "    return x**2 + x + (x**3 - x)**0.5"
   ]
  },
  {
   "cell_type": "markdown",
   "metadata": {},
   "source": [
    "Проверим, что всё работает во все стороны. Для обратного преобразования предлагаю подать ту же сетку, потому что почему бы и нет"
   ]
  },
  {
   "cell_type": "code",
   "execution_count": 7,
   "metadata": {},
   "outputs": [
    {
     "data": {
      "text/plain": [
       "True"
      ]
     },
     "execution_count": 7,
     "metadata": {},
     "output_type": "execute_result"
    }
   ],
   "source": [
    "allclose(npfft(setka(f)), fft(setka(f)))"
   ]
  },
  {
   "cell_type": "code",
   "execution_count": 8,
   "metadata": {},
   "outputs": [
    {
     "data": {
      "text/plain": [
       "True"
      ]
     },
     "execution_count": 8,
     "metadata": {},
     "output_type": "execute_result"
    }
   ],
   "source": [
    "allclose(npifft(setka(f)), ifft(setka(f)))"
   ]
  },
  {
   "cell_type": "code",
   "execution_count": 9,
   "metadata": {},
   "outputs": [
    {
     "data": {
      "text/plain": [
       "True"
      ]
     },
     "execution_count": 9,
     "metadata": {},
     "output_type": "execute_result"
    }
   ],
   "source": [
    "allclose(npfft(setka(f)), dubolom(setka(f)))"
   ]
  },
  {
   "cell_type": "code",
   "execution_count": 10,
   "metadata": {},
   "outputs": [
    {
     "data": {
      "text/plain": [
       "True"
      ]
     },
     "execution_count": 10,
     "metadata": {},
     "output_type": "execute_result"
    }
   ],
   "source": [
    "allclose(npifft(setka(f)), idubolom(setka(f)))"
   ]
  },
  {
   "cell_type": "markdown",
   "metadata": {},
   "source": [
    "А теперь сравним скорость работы всех этих методов"
   ]
  },
  {
   "cell_type": "code",
   "execution_count": 11,
   "metadata": {},
   "outputs": [
    {
     "name": "stdout",
     "output_type": "stream",
     "text": [
      "Wall time: 24 ms\n"
     ]
    }
   ],
   "source": [
    "%%time\n",
    "a = fft(setka(f))"
   ]
  },
  {
   "cell_type": "code",
   "execution_count": 12,
   "metadata": {},
   "outputs": [
    {
     "name": "stdout",
     "output_type": "stream",
     "text": [
      "Wall time: 4 ms\n"
     ]
    }
   ],
   "source": [
    "%%time\n",
    "a = npfft(setka(f))"
   ]
  },
  {
   "cell_type": "code",
   "execution_count": 13,
   "metadata": {},
   "outputs": [
    {
     "name": "stdout",
     "output_type": "stream",
     "text": [
      "Wall time: 1.3 s\n"
     ]
    }
   ],
   "source": [
    "%%time\n",
    "b = dubolom(setka(f))"
   ]
  },
  {
   "cell_type": "markdown",
   "metadata": {},
   "source": [
    "Как видим, написанный FFT всего в 6 раз медленнее реализации numpy и в 50 с лищним раз быстрее дуболомного метода"
   ]
  }
 ],
 "metadata": {
  "kernelspec": {
   "display_name": "Python 3",
   "language": "python",
   "name": "python3"
  },
  "language_info": {
   "codemirror_mode": {
    "name": "ipython",
    "version": 3
   },
   "file_extension": ".py",
   "mimetype": "text/x-python",
   "name": "python",
   "nbconvert_exporter": "python",
   "pygments_lexer": "ipython3",
   "version": "3.6.5"
  }
 },
 "nbformat": 4,
 "nbformat_minor": 2
}
